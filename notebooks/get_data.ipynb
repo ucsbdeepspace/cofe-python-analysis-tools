{
 "cells": [
  {
   "cell_type": "code",
   "execution_count": 1,
   "metadata": {
    "collapsed": false
   },
   "outputs": [
    {
     "name": "stdout",
     "output_type": "stream",
     "text": [
      "Using matplotlib backend: Qt5Agg\n",
      "Populating the interactive namespace from numpy and matplotlib\n"
     ]
    }
   ],
   "source": [
    "import sys\n",
    "sys.path.append('/COFE_analysis/utils_meinhold/')\n",
    "sys.path.append('/COFE_analysis/utils_zonca/')\n",
    "from glob import glob\n",
    "import time\n",
    "import cofe_util as cu\n",
    "import Tkinter,tkFileDialog\n",
    "root = Tkinter.Tk()\n",
    "from demod import datparsing\n",
    "%pylab"
   ]
  },
  {
   "cell_type": "code",
   "execution_count": 91,
   "metadata": {
    "collapsed": false
   },
   "outputs": [],
   "source": [
    "def load_raw_data(ffile=None,freq='10'):\n",
    "    '''\n",
    "    function to load raw data\n",
    "    '''\n",
    "    if ffile==None:\n",
    "        ffile = list(tkFileDialog.askopenfilenames(initialdir='C:\\\\COFE\\\\telescope_source\\\\data',parent=root,title='Choose a file'))\n",
    "    ffile.sort()\n",
    "    print(ffile) #,mode='rb'\n",
    "    d=datparsing.read_raw(ffile)\n",
    "    return(d)"
   ]
  },
  {
   "cell_type": "code",
   "execution_count": 140,
   "metadata": {
    "collapsed": false
   },
   "outputs": [],
   "source": [
    "import time"
   ]
  },
  {
   "cell_type": "code",
   "execution_count": 198,
   "metadata": {
    "collapsed": false
   },
   "outputs": [],
   "source": [
    "def load_and_prep_data(d_label='test'):\n",
    "    '''\n",
    "    script to load data set, spit out colormesh, then stack and store signal in dict\n",
    "    '''\n",
    "    now = time.strftime(\"%c\")\n",
    "    d=load_raw_data()\n",
    "    m=[]\n",
    "    #extract first a/d into an array and plot it\n",
    "    for dd in d:\n",
    "        m.append(dd[2])\n",
    "    p1=figure(10)\n",
    "    p1.clear()\n",
    "    pcolormesh(m)\n",
    "    title('Vibration test %s' %now )\n",
    "    stack=np.mean(m,axis=0)-np.mean(m)\n",
    "    p2=figure(11)\n",
    "    p2.clear()\n",
    "    plot(stack,label=d_label)\n",
    "    xlabel('Rotation position, 256/rev')\n",
    "    ylabel('Relative proximity reading, V')\n",
    "    title('Vibration test %s' %now )\n",
    "    legend()\n",
    "    return stack\n",
    "    "
   ]
  },
  {
   "cell_type": "code",
   "execution_count": 199,
   "metadata": {
    "collapsed": true
   },
   "outputs": [],
   "source": [
    "tstdict={}"
   ]
  },
  {
   "cell_type": "code",
   "execution_count": 201,
   "metadata": {
    "collapsed": false
   },
   "outputs": [
    {
     "name": "stdout",
     "output_type": "stream",
     "text": [
      "['C:/COFE/telescope_source/data/20161118/10493800.dat']\n",
      "1000\n",
      "16\n"
     ]
    }
   ],
   "source": [
    "tstdict['tst2']=load_and_prep_data('tst2')"
   ]
  },
  {
   "cell_type": "code",
   "execution_count": 205,
   "metadata": {
    "collapsed": false
   },
   "outputs": [
    {
     "data": {
      "text/plain": [
       "<matplotlib.legend.Legend at 0x1fd2ba50>"
      ]
     },
     "execution_count": 205,
     "metadata": {},
     "output_type": "execute_result"
    }
   ],
   "source": [
    "now = time.strftime(\"%c\")\n",
    "figure()\n",
    "for key in tstdict.keys():\n",
    "    plot(tstdict[key],label=key)\n",
    "xlabel('Rotation position, 256/rev')\n",
    "ylabel('Relative proximity reading, V')\n",
    "title('Vibration test %s' %now )\n",
    "legend()\n",
    "    "
   ]
  },
  {
   "cell_type": "code",
   "execution_count": 164,
   "metadata": {
    "collapsed": true
   },
   "outputs": [],
   "source": [
    "p.clear()"
   ]
  },
  {
   "cell_type": "code",
   "execution_count": 163,
   "metadata": {
    "collapsed": false
   },
   "outputs": [
    {
     "data": {
      "text/plain": [
       "[<matplotlib.lines.Line2D at 0x7e89c30>]"
      ]
     },
     "execution_count": 163,
     "metadata": {},
     "output_type": "execute_result"
    }
   ],
   "source": [
    "figure(11)\n",
    "plot(arange(10))"
   ]
  },
  {
   "cell_type": "code",
   "execution_count": 153,
   "metadata": {
    "collapsed": false,
    "scrolled": false
   },
   "outputs": [
    {
     "name": "stdout",
     "output_type": "stream",
     "text": [
      "['C:/COFE/telescope_source/data/20161118/10450700.dat']\n",
      "1000\n",
      "16\n"
     ]
    }
   ],
   "source": [
    "d2=load_raw_data()"
   ]
  },
  {
   "cell_type": "code",
   "execution_count": 154,
   "metadata": {
    "collapsed": false
   },
   "outputs": [],
   "source": [
    "m2=[]\n",
    "for dd in d2:\n",
    "    m2.append(dd[2]) \n",
    "    # here we choose the first a/d channel (of 16), \n",
    "    #which is at position 2, first two are index and rev, can be identical\n"
   ]
  },
  {
   "cell_type": "code",
   "execution_count": 156,
   "metadata": {
    "collapsed": false
   },
   "outputs": [
    {
     "data": {
      "text/plain": [
       "<matplotlib.collections.QuadMesh at 0x1fb22c30>"
      ]
     },
     "execution_count": 156,
     "metadata": {},
     "output_type": "execute_result"
    }
   ],
   "source": [
    "figure()\n",
    "pcolormesh(m2)"
   ]
  },
  {
   "cell_type": "code",
   "execution_count": 155,
   "metadata": {
    "collapsed": false
   },
   "outputs": [],
   "source": [
    "figure()\n",
    "for dd in d2[:100]:\n",
    "    plot(dd[2])"
   ]
  },
  {
   "cell_type": "code",
   "execution_count": 135,
   "metadata": {
    "collapsed": true
   },
   "outputs": [],
   "source": [
    "#compress data to a single 256 element array\n",
    "d2compress=np.mean(m2,axis=0)-np.mean(m2)"
   ]
  },
  {
   "cell_type": "code",
   "execution_count": 136,
   "metadata": {
    "collapsed": false
   },
   "outputs": [
    {
     "data": {
      "text/plain": [
       "[<matplotlib.lines.Line2D at 0x7df00d0>]"
      ]
     },
     "execution_count": 136,
     "metadata": {},
     "output_type": "execute_result"
    }
   ],
   "source": [
    "figure()\n",
    "plot(d2compress)"
   ]
  },
  {
   "cell_type": "code",
   "execution_count": null,
   "metadata": {
    "collapsed": true
   },
   "outputs": [],
   "source": []
  }
 ],
 "metadata": {
  "anaconda-cloud": {},
  "kernelspec": {
   "display_name": "Python [conda root]",
   "language": "python",
   "name": "conda-root-py"
  },
  "language_info": {
   "codemirror_mode": {
    "name": "ipython",
    "version": 2
   },
   "file_extension": ".py",
   "mimetype": "text/x-python",
   "name": "python",
   "nbconvert_exporter": "python",
   "pygments_lexer": "ipython2",
   "version": "2.7.12"
  }
 },
 "nbformat": 4,
 "nbformat_minor": 1
}
